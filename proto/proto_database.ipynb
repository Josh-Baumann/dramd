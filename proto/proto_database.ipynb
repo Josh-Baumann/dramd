{
 "cells": [
  {
   "cell_type": "code",
   "execution_count": 57,
   "metadata": {},
   "outputs": [],
   "source": [
    "import sqlite3 as sql"
   ]
  },
  {
   "cell_type": "markdown",
   "metadata": {},
   "source": [
    "# Setup the whiskey review database"
   ]
  },
  {
   "cell_type": "code",
   "execution_count": 58,
   "metadata": {},
   "outputs": [
    {
     "data": {
      "text/plain": [
       "[(1, 'high west', 'rendezvous rye')]"
      ]
     },
     "metadata": {},
     "output_type": "display_data"
    },
    {
     "name": "stdout",
     "output_type": "stream",
     "text": [
      "<class 'list'>\n"
     ]
    }
   ],
   "source": [
    "db_whiskey_filename = \":memory:\"  # \"whiskey.db\"\n",
    "connection = sql.connect(db_whiskey_filename)\n",
    "cur = connection.cursor()\n",
    "\n",
    "# create the database table if it doesn't exist\n",
    "table_schema = \"\"\"\n",
    "CREATE TABLE IF NOT EXISTS notes (\n",
    "    id INTEGER PRIMARY KEY,\n",
    "    brand TEXT NOT NULL,\n",
    "    name TEXT NOT NULL\n",
    ");\n",
    "\"\"\"\n",
    "cur.execute(table_schema)\n",
    "\n",
    "# insert some hard-coded data\n",
    "insert_query = \"\"\"\n",
    "INSERT INTO notes (brand, name)\n",
    "VALUES ('high west', 'rendezvous rye');\n",
    "\"\"\"\n",
    "cur.execute(insert_query)\n",
    "\n",
    "\n",
    "# save it in the database file\n",
    "connection.commit()\n",
    "\n",
    "cur.execute(\"SELECT * FROM notes;\")\n",
    "\n",
    "result = cur.fetchall()\n",
    "display(result)\n",
    "print(type(result))\n",
    "\n",
    "cur.close()\n",
    "connection.close()"
   ]
  }
 ],
 "metadata": {
  "kernelspec": {
   "display_name": ".venv",
   "language": "python",
   "name": "python3"
  },
  "language_info": {
   "codemirror_mode": {
    "name": "ipython",
    "version": 3
   },
   "file_extension": ".py",
   "mimetype": "text/x-python",
   "name": "python",
   "nbconvert_exporter": "python",
   "pygments_lexer": "ipython3",
   "version": "3.11.3"
  }
 },
 "nbformat": 4,
 "nbformat_minor": 2
}
